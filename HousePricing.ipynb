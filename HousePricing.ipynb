{
 "cells": [
  {
   "cell_type": "markdown",
   "id": "443efc35-c654-4233-ab35-8154f1607935",
   "metadata": {},
   "source": [
    "# Importing the data and Libraries"
   ]
  },
  {
   "cell_type": "code",
   "execution_count": 34,
   "id": "4edb646e-e9de-4bd7-98c4-4761d0fe1dea",
   "metadata": {},
   "outputs": [
    {
     "data": {
      "text/html": [
       "<div>\n",
       "<style scoped>\n",
       "    .dataframe tbody tr th:only-of-type {\n",
       "        vertical-align: middle;\n",
       "    }\n",
       "\n",
       "    .dataframe tbody tr th {\n",
       "        vertical-align: top;\n",
       "    }\n",
       "\n",
       "    .dataframe thead th {\n",
       "        text-align: right;\n",
       "    }\n",
       "</style>\n",
       "<table border=\"1\" class=\"dataframe\">\n",
       "  <thead>\n",
       "    <tr style=\"text-align: right;\">\n",
       "      <th></th>\n",
       "      <th>price</th>\n",
       "      <th>area</th>\n",
       "      <th>bedrooms</th>\n",
       "      <th>bathrooms</th>\n",
       "      <th>stories</th>\n",
       "      <th>mainroad</th>\n",
       "      <th>guestroom</th>\n",
       "      <th>basement</th>\n",
       "      <th>hotwaterheating</th>\n",
       "      <th>airconditioning</th>\n",
       "      <th>parking</th>\n",
       "      <th>prefarea</th>\n",
       "      <th>furnishingstatus</th>\n",
       "    </tr>\n",
       "  </thead>\n",
       "  <tbody>\n",
       "    <tr>\n",
       "      <th>0</th>\n",
       "      <td>13300000</td>\n",
       "      <td>7420</td>\n",
       "      <td>4</td>\n",
       "      <td>2</td>\n",
       "      <td>3</td>\n",
       "      <td>yes</td>\n",
       "      <td>no</td>\n",
       "      <td>no</td>\n",
       "      <td>no</td>\n",
       "      <td>yes</td>\n",
       "      <td>2</td>\n",
       "      <td>yes</td>\n",
       "      <td>furnished</td>\n",
       "    </tr>\n",
       "    <tr>\n",
       "      <th>1</th>\n",
       "      <td>12250000</td>\n",
       "      <td>8960</td>\n",
       "      <td>4</td>\n",
       "      <td>4</td>\n",
       "      <td>4</td>\n",
       "      <td>yes</td>\n",
       "      <td>no</td>\n",
       "      <td>no</td>\n",
       "      <td>no</td>\n",
       "      <td>yes</td>\n",
       "      <td>3</td>\n",
       "      <td>no</td>\n",
       "      <td>furnished</td>\n",
       "    </tr>\n",
       "    <tr>\n",
       "      <th>2</th>\n",
       "      <td>12250000</td>\n",
       "      <td>9960</td>\n",
       "      <td>3</td>\n",
       "      <td>2</td>\n",
       "      <td>2</td>\n",
       "      <td>yes</td>\n",
       "      <td>no</td>\n",
       "      <td>yes</td>\n",
       "      <td>no</td>\n",
       "      <td>no</td>\n",
       "      <td>2</td>\n",
       "      <td>yes</td>\n",
       "      <td>semi-furnished</td>\n",
       "    </tr>\n",
       "    <tr>\n",
       "      <th>3</th>\n",
       "      <td>12215000</td>\n",
       "      <td>7500</td>\n",
       "      <td>4</td>\n",
       "      <td>2</td>\n",
       "      <td>2</td>\n",
       "      <td>yes</td>\n",
       "      <td>no</td>\n",
       "      <td>yes</td>\n",
       "      <td>no</td>\n",
       "      <td>yes</td>\n",
       "      <td>3</td>\n",
       "      <td>yes</td>\n",
       "      <td>furnished</td>\n",
       "    </tr>\n",
       "    <tr>\n",
       "      <th>4</th>\n",
       "      <td>11410000</td>\n",
       "      <td>7420</td>\n",
       "      <td>4</td>\n",
       "      <td>1</td>\n",
       "      <td>2</td>\n",
       "      <td>yes</td>\n",
       "      <td>yes</td>\n",
       "      <td>yes</td>\n",
       "      <td>no</td>\n",
       "      <td>yes</td>\n",
       "      <td>2</td>\n",
       "      <td>no</td>\n",
       "      <td>furnished</td>\n",
       "    </tr>\n",
       "  </tbody>\n",
       "</table>\n",
       "</div>"
      ],
      "text/plain": [
       "      price  area  bedrooms  bathrooms  stories mainroad guestroom basement  \\\n",
       "0  13300000  7420         4          2        3      yes        no       no   \n",
       "1  12250000  8960         4          4        4      yes        no       no   \n",
       "2  12250000  9960         3          2        2      yes        no      yes   \n",
       "3  12215000  7500         4          2        2      yes        no      yes   \n",
       "4  11410000  7420         4          1        2      yes       yes      yes   \n",
       "\n",
       "  hotwaterheating airconditioning  parking prefarea furnishingstatus  \n",
       "0              no             yes        2      yes        furnished  \n",
       "1              no             yes        3       no        furnished  \n",
       "2              no              no        2      yes   semi-furnished  \n",
       "3              no             yes        3      yes        furnished  \n",
       "4              no             yes        2       no        furnished  "
      ]
     },
     "execution_count": 34,
     "metadata": {},
     "output_type": "execute_result"
    }
   ],
   "source": [
    "import pandas as pd\n",
    "import numpy as np\n",
    "import seaborn as sns\n",
    "import matplotlib.pyplot as plt\n",
    "from sklearn.preprocessing import StandardScaler\n",
    "from sklearn.linear_model import LinearRegression\n",
    "from sklearn.model_selection import train_test_split\n",
    "from sklearn.metrics import mean_squared_error, r2_score,mean_absolute_error\n",
    "\n",
    "data=pd.read_csv(\"Housing.csv\")\n",
    "data.head()"
   ]
  },
  {
   "cell_type": "markdown",
   "id": "c5a39b28-bf16-494c-922c-b9e6e1a88390",
   "metadata": {},
   "source": [
    "# Observing the data and checking out null values"
   ]
  },
  {
   "cell_type": "code",
   "execution_count": 35,
   "id": "ea9fa2c8-6cdc-4b26-99ff-8e469a33ce6a",
   "metadata": {},
   "outputs": [
    {
     "data": {
      "text/plain": [
       "price               0\n",
       "area                0\n",
       "bedrooms            0\n",
       "bathrooms           0\n",
       "stories             0\n",
       "mainroad            0\n",
       "guestroom           0\n",
       "basement            0\n",
       "hotwaterheating     0\n",
       "airconditioning     0\n",
       "parking             0\n",
       "prefarea            0\n",
       "furnishingstatus    0\n",
       "dtype: int64"
      ]
     },
     "execution_count": 35,
     "metadata": {},
     "output_type": "execute_result"
    }
   ],
   "source": [
    "data.isnull().sum()"
   ]
  },
  {
   "cell_type": "markdown",
   "id": "433b6b03-061f-442f-ad35-f529d43470fd",
   "metadata": {},
   "source": [
    "# Encoding Categorical Variables."
   ]
  },
  {
   "cell_type": "code",
   "execution_count": 36,
   "id": "12346e7e-e088-4855-897b-d195ba7a3067",
   "metadata": {},
   "outputs": [
    {
     "data": {
      "text/html": [
       "<div>\n",
       "<style scoped>\n",
       "    .dataframe tbody tr th:only-of-type {\n",
       "        vertical-align: middle;\n",
       "    }\n",
       "\n",
       "    .dataframe tbody tr th {\n",
       "        vertical-align: top;\n",
       "    }\n",
       "\n",
       "    .dataframe thead th {\n",
       "        text-align: right;\n",
       "    }\n",
       "</style>\n",
       "<table border=\"1\" class=\"dataframe\">\n",
       "  <thead>\n",
       "    <tr style=\"text-align: right;\">\n",
       "      <th></th>\n",
       "      <th>price</th>\n",
       "      <th>area</th>\n",
       "      <th>bedrooms</th>\n",
       "      <th>bathrooms</th>\n",
       "      <th>stories</th>\n",
       "      <th>mainroad</th>\n",
       "      <th>guestroom</th>\n",
       "      <th>basement</th>\n",
       "      <th>hotwaterheating</th>\n",
       "      <th>airconditioning</th>\n",
       "      <th>parking</th>\n",
       "      <th>prefarea</th>\n",
       "      <th>furnishingstatus_semi-furnished</th>\n",
       "      <th>furnishingstatus_unfurnished</th>\n",
       "    </tr>\n",
       "  </thead>\n",
       "  <tbody>\n",
       "    <tr>\n",
       "      <th>0</th>\n",
       "      <td>13300000</td>\n",
       "      <td>7420</td>\n",
       "      <td>4</td>\n",
       "      <td>2</td>\n",
       "      <td>3</td>\n",
       "      <td>1</td>\n",
       "      <td>0</td>\n",
       "      <td>0</td>\n",
       "      <td>0</td>\n",
       "      <td>1</td>\n",
       "      <td>2</td>\n",
       "      <td>1</td>\n",
       "      <td>0</td>\n",
       "      <td>0</td>\n",
       "    </tr>\n",
       "    <tr>\n",
       "      <th>1</th>\n",
       "      <td>12250000</td>\n",
       "      <td>8960</td>\n",
       "      <td>4</td>\n",
       "      <td>4</td>\n",
       "      <td>4</td>\n",
       "      <td>1</td>\n",
       "      <td>0</td>\n",
       "      <td>0</td>\n",
       "      <td>0</td>\n",
       "      <td>1</td>\n",
       "      <td>3</td>\n",
       "      <td>0</td>\n",
       "      <td>0</td>\n",
       "      <td>0</td>\n",
       "    </tr>\n",
       "    <tr>\n",
       "      <th>2</th>\n",
       "      <td>12250000</td>\n",
       "      <td>9960</td>\n",
       "      <td>3</td>\n",
       "      <td>2</td>\n",
       "      <td>2</td>\n",
       "      <td>1</td>\n",
       "      <td>0</td>\n",
       "      <td>1</td>\n",
       "      <td>0</td>\n",
       "      <td>0</td>\n",
       "      <td>2</td>\n",
       "      <td>1</td>\n",
       "      <td>1</td>\n",
       "      <td>0</td>\n",
       "    </tr>\n",
       "    <tr>\n",
       "      <th>3</th>\n",
       "      <td>12215000</td>\n",
       "      <td>7500</td>\n",
       "      <td>4</td>\n",
       "      <td>2</td>\n",
       "      <td>2</td>\n",
       "      <td>1</td>\n",
       "      <td>0</td>\n",
       "      <td>1</td>\n",
       "      <td>0</td>\n",
       "      <td>1</td>\n",
       "      <td>3</td>\n",
       "      <td>1</td>\n",
       "      <td>0</td>\n",
       "      <td>0</td>\n",
       "    </tr>\n",
       "    <tr>\n",
       "      <th>4</th>\n",
       "      <td>11410000</td>\n",
       "      <td>7420</td>\n",
       "      <td>4</td>\n",
       "      <td>1</td>\n",
       "      <td>2</td>\n",
       "      <td>1</td>\n",
       "      <td>1</td>\n",
       "      <td>1</td>\n",
       "      <td>0</td>\n",
       "      <td>1</td>\n",
       "      <td>2</td>\n",
       "      <td>0</td>\n",
       "      <td>0</td>\n",
       "      <td>0</td>\n",
       "    </tr>\n",
       "  </tbody>\n",
       "</table>\n",
       "</div>"
      ],
      "text/plain": [
       "      price  area  bedrooms  bathrooms  stories  mainroad  guestroom  \\\n",
       "0  13300000  7420         4          2        3         1          0   \n",
       "1  12250000  8960         4          4        4         1          0   \n",
       "2  12250000  9960         3          2        2         1          0   \n",
       "3  12215000  7500         4          2        2         1          0   \n",
       "4  11410000  7420         4          1        2         1          1   \n",
       "\n",
       "   basement  hotwaterheating  airconditioning  parking  prefarea  \\\n",
       "0         0                0                1        2         1   \n",
       "1         0                0                1        3         0   \n",
       "2         1                0                0        2         1   \n",
       "3         1                0                1        3         1   \n",
       "4         1                0                1        2         0   \n",
       "\n",
       "   furnishingstatus_semi-furnished  furnishingstatus_unfurnished  \n",
       "0                                0                             0  \n",
       "1                                0                             0  \n",
       "2                                1                             0  \n",
       "3                                0                             0  \n",
       "4                                0                             0  "
      ]
     },
     "execution_count": 36,
     "metadata": {},
     "output_type": "execute_result"
    }
   ],
   "source": [
    "binary_cols = ['mainroad', 'guestroom', 'basement', 'hotwaterheating', 'airconditioning', 'prefarea']\n",
    "\n",
    "# Convert 'Yes'/'No' to 1/0\n",
    "data[binary_cols] = data[binary_cols].apply(lambda col: col.map({'yes': 1, 'no': 0}))\n",
    "data['furnishingstatus'] = data['furnishingstatus'].astype(str)\n",
    "\n",
    "data = pd.get_dummies(data, columns=['furnishingstatus'], drop_first=True)\n",
    "data['furnishingstatus_semi-furnished'] = data['furnishingstatus_semi-furnished'].astype(int)\n",
    "data['furnishingstatus_unfurnished'] = data['furnishingstatus_unfurnished'].astype(int)\n",
    "\n",
    "data.head()\n"
   ]
  },
  {
   "cell_type": "code",
   "execution_count": 37,
   "id": "e7077e1a-336b-4cca-8b08-ae1350e38fa4",
   "metadata": {},
   "outputs": [
    {
     "name": "stdout",
     "output_type": "stream",
     "text": [
      "The Number of outliers in price is 15\n",
      "The Number of outliers in area is 12\n",
      "The Number of outliers in bedrooms is 12\n",
      "The Number of outliers in bathrooms is 1\n",
      "The Number of outliers in stories is 41\n",
      "The Number of outliers in parking is 12\n"
     ]
    }
   ],
   "source": [
    "num_cols=['price','area','bedrooms','bathrooms','stories','parking']\n",
    "for col in num_cols:\n",
    "    Q1 = data[col].quantile(0.25)\n",
    "    Q3 = data[col].quantile(0.75)\n",
    "\n",
    "    IQR = Q3- Q1\n",
    "    minimum_range = Q1 - 1.5* IQR\n",
    "    maximum_range = Q3 + 1.5* IQR\n",
    "\n",
    "    outliers = ((data[col] < minimum_range) | (data[col] > maximum_range))\n",
    "    print(f'The Number of outliers in {col} is {outliers.sum()}')"
   ]
  },
  {
   "cell_type": "markdown",
   "id": "064751b4-e2ac-46f1-8452-8bd1ce56575f",
   "metadata": {},
   "source": [
    "# Removing outliers"
   ]
  },
  {
   "cell_type": "code",
   "execution_count": 38,
   "id": "9ab1e2c3-2e06-4481-be84-a2007d85460e",
   "metadata": {},
   "outputs": [],
   "source": [
    "for col in num_cols:\n",
    "    if(col==\"Age\"):\n",
    "        continue\n",
    "    Q1 = data[col].quantile(0.25)\n",
    "    Q3 = data[col].quantile(0.75)\n",
    "\n",
    "    IQR = Q3- Q1\n",
    "    minimum_range = Q1 - 1.5* IQR\n",
    "    maximum_range = Q3 + 1.5* IQR\n",
    "\n",
    "    outliers = ((data[col] < minimum_range) | (data[col] > maximum_range))\n",
    "    median_val=data[col].median()\n",
    "    data.loc[outliers,col]=median_val"
   ]
  },
  {
   "cell_type": "code",
   "execution_count": 39,
   "id": "248d5be1-ff49-45e1-b44e-d78b0a1096c0",
   "metadata": {},
   "outputs": [
    {
     "name": "stdout",
     "output_type": "stream",
     "text": [
      "The Number of outliers in price is 5\n",
      "The Number of outliers in area is 6\n",
      "The Number of outliers in bedrooms is 0\n",
      "The Number of outliers in bathrooms is 0\n",
      "The Number of outliers in stories is 0\n",
      "The Number of outliers in parking is 0\n"
     ]
    }
   ],
   "source": [
    "for col in num_cols:\n",
    "    Q1 = data[col].quantile(0.25)\n",
    "    Q3 = data[col].quantile(0.75)\n",
    "\n",
    "    IQR = Q3- Q1\n",
    "    minimum_range = Q1 - 1.5* IQR\n",
    "    maximum_range = Q3 + 1.5* IQR\n",
    "\n",
    "    outliers = ((data[col] < minimum_range) | (data[col] > maximum_range))\n",
    "    print(f'The Number of outliers in {col} is {outliers.sum()}')"
   ]
  },
  {
   "cell_type": "markdown",
   "id": "72d5db5b",
   "metadata": {},
   "source": [
    "# Standardizing the Data"
   ]
  },
  {
   "cell_type": "code",
   "execution_count": 40,
   "id": "1af80856",
   "metadata": {},
   "outputs": [
    {
     "data": {
      "text/plain": [
       "array([[ 1.33470625,  1.64762051,  1.47243614, ...,  1.80494113,\n",
       "        -0.84488844, -0.6964292 ],\n",
       "       [ 2.17446697,  1.64762051, -0.57470084, ..., -0.55403469,\n",
       "        -0.84488844, -0.6964292 ],\n",
       "       [ 2.71976613,  0.12566597,  1.47243614, ...,  1.80494113,\n",
       "         1.18358821, -0.6964292 ],\n",
       "       ...,\n",
       "       [-0.73743057, -1.39628857, -0.57470084, ..., -0.55403469,\n",
       "        -0.84488844,  1.43589615],\n",
       "       [-1.12459298,  0.12566597, -0.57470084, ..., -0.55403469,\n",
       "        -0.84488844, -0.6964292 ],\n",
       "       [-0.61201177,  0.12566597, -0.57470084, ..., -0.55403469,\n",
       "        -0.84488844,  1.43589615]])"
      ]
     },
     "execution_count": 40,
     "metadata": {},
     "output_type": "execute_result"
    }
   ],
   "source": [
    "X = data.drop('price', axis=1)\n",
    "y = data['price']\n",
    "\n",
    "scaler=StandardScaler()\n",
    "X_scaled=scaler.fit_transform(X)\n",
    "X_scaled"
   ]
  },
  {
   "cell_type": "markdown",
   "id": "0ef68502",
   "metadata": {},
   "source": [
    "# Simple Linear Regression"
   ]
  },
  {
   "cell_type": "code",
   "execution_count": 41,
   "id": "71ab6613",
   "metadata": {},
   "outputs": [],
   "source": [
    "X_area = X_scaled[:, [0]]\n",
    "X_train,X_test,y_train,y_test=train_test_split(X_area,y,test_size=0.4,random_state=42)\n",
    "\n",
    "simple_lr=LinearRegression()\n",
    "simple_lr.fit(X_train,y_train)\n",
    "y_pred=simple_lr.predict(X_test)"
   ]
  },
  {
   "cell_type": "code",
   "execution_count": 42,
   "id": "8ba94467",
   "metadata": {},
   "outputs": [
    {
     "data": {
      "image/png": "[encoded data removed]",
      "text/plain": [
       "<Figure size 640x480 with 1 Axes>"
      ]
     },
     "metadata": {},
     "output_type": "display_data"
    }
   ],
   "source": [
    "import matplotlib.pyplot as plt\n",
    "\n",
    "plt.scatter(X_test, y_test, color='blue', label='Actual')\n",
    "plt.plot(X_test, y_pred, color='red', linewidth=2, label='Predicted')\n",
    "plt.title('Simple Linear Regression: Age vs Survival')\n",
    "plt.xlabel('Age (Standardized)')\n",
    "plt.ylabel('Survival')\n",
    "plt.legend()\n",
    "plt.show()"
   ]
  },
  {
   "cell_type": "markdown",
   "id": "38ddc462",
   "metadata": {},
   "source": [
    "# Evaluating Simple Linear Regression Model"
   ]
  },
  {
   "cell_type": "code",
   "execution_count": 50,
   "id": "4f7e6fdf",
   "metadata": {},
   "outputs": [
    {
     "name": "stdout",
     "output_type": "stream",
     "text": [
      "Simple Linear Regression:\n",
      "MSE: 1528665340589.495\n",
      "R² Score: 0.5050740088861057\n",
      "MAE: 941172.2374771642\n",
      "----------------------------------------------------------------------------------------------------\n",
      "Simple Linear Regression Coefficients:\n",
      "Intercept (beta0): 4591491.25\n",
      "Coefficient for Area (beta1): 488698.02\n",
      "Interpretation: For every one unit increase in Area, price changes by 488698.02 units on average.\n",
      "\n"
     ]
    }
   ],
   "source": [
    "print(\"Simple Linear Regression:\")\n",
    "print(\"MSE:\", mean_squared_error(y_test, y_pred))\n",
    "print(\"R² Score:\", r2_score(y_test, y_pred))\n",
    "print(\"MAE:\", mean_absolute_error(y_test,y_pred))\n",
    "print(\"--\"*50)\n",
    "print(\"Simple Linear Regression Coefficients:\")\n",
    "print(f\"Intercept (beta0): {simple_lr.intercept_:.2f}\")\n",
    "print(f\"Coefficient for Area (beta1): {simple_lr.coef_[0]:.2f}\")\n",
    "print(f\"Interpretation: For every one unit increase in Area, price changes by {simple_lr.coef_[0]:.2f} units on average.\\n\")\n"
   ]
  },
  {
   "cell_type": "markdown",
   "id": "5a10eb5d",
   "metadata": {},
   "source": [
    "# Multiple Linear Regression"
   ]
  },
  {
   "cell_type": "code",
   "execution_count": 45,
   "id": "462d2d62",
   "metadata": {},
   "outputs": [],
   "source": [
    "X_train,X_test,y_train,y_test=train_test_split(X_scaled,y,test_size=0.4,random_state=42)\n",
    "\n",
    "multi_lr=LinearRegression()\n",
    "multi_lr.fit(X_train,y_train)\n",
    "y_pred=multi_lr.predict(X_test)"
   ]
  },
  {
   "cell_type": "markdown",
   "id": "92e016ad",
   "metadata": {},
   "source": [
    "# Evaluating Multiple Linear Regression Model"
   ]
  },
  {
   "cell_type": "code",
   "execution_count": 51,
   "id": "ccedb4d1",
   "metadata": {},
   "outputs": [
    {
     "name": "stdout",
     "output_type": "stream",
     "text": [
      "Multiple Linear Regression:\n",
      "MSE: 1528665340589.495\n",
      "R² Score: 0.5050740088861057\n",
      "MAE: 941172.2374771642\n",
      "----------------------------------------------------------------------------------------------------\n",
      "Multiple Linear Regression Coefficients:\n",
      "Intercept (beta0): 4591491.25\n",
      "Coefficient for area (beta): 488698.02\n",
      "Interpretation: Holding other features constant, a one unit increase in area changes price by 488698.02 units.\n",
      "\n",
      "Coefficient for bedrooms (beta): 10446.03\n",
      "Interpretation: Holding other features constant, a one unit increase in bedrooms changes price by 10446.03 units.\n",
      "\n",
      "Coefficient for bathrooms (beta): 395335.14\n",
      "Interpretation: Holding other features constant, a one unit increase in bathrooms changes price by 395335.14 units.\n",
      "\n",
      "Coefficient for stories (beta): 142420.57\n",
      "Interpretation: Holding other features constant, a one unit increase in stories changes price by 142420.57 units.\n",
      "\n",
      "Coefficient for mainroad (beta): 146731.45\n",
      "Interpretation: Holding other features constant, a one unit increase in mainroad changes price by 146731.45 units.\n",
      "\n",
      "Coefficient for guestroom (beta): 110844.07\n",
      "Interpretation: Holding other features constant, a one unit increase in guestroom changes price by 110844.07 units.\n",
      "\n",
      "Coefficient for basement (beta): 155029.01\n",
      "Interpretation: Holding other features constant, a one unit increase in basement changes price by 155029.01 units.\n",
      "\n",
      "Coefficient for hotwaterheating (beta): 123362.67\n",
      "Interpretation: Holding other features constant, a one unit increase in hotwaterheating changes price by 123362.67 units.\n",
      "\n",
      "Coefficient for airconditioning (beta): 340618.91\n",
      "Interpretation: Holding other features constant, a one unit increase in airconditioning changes price by 340618.91 units.\n",
      "\n",
      "Coefficient for parking (beta): 155042.94\n",
      "Interpretation: Holding other features constant, a one unit increase in parking changes price by 155042.94 units.\n",
      "\n",
      "Coefficient for prefarea (beta): 151999.44\n",
      "Interpretation: Holding other features constant, a one unit increase in prefarea changes price by 151999.44 units.\n",
      "\n",
      "Coefficient for furnishingstatus_semi-furnished (beta): -18750.71\n",
      "Interpretation: Holding other features constant, a one unit increase in furnishingstatus_semi-furnished changes price by -18750.71 units.\n",
      "\n",
      "Coefficient for furnishingstatus_unfurnished (beta): -178011.58\n",
      "Interpretation: Holding other features constant, a one unit increase in furnishingstatus_unfurnished changes price by -178011.58 units.\n",
      "\n"
     ]
    }
   ],
   "source": [
    "print(\"Multiple Linear Regression:\")\n",
    "print(\"MSE:\", mean_squared_error(y_test, y_pred))\n",
    "print(\"R² Score:\", r2_score(y_test, y_pred))\n",
    "print(\"MAE:\", mean_absolute_error(y_test,y_pred))\n",
    "print(\"--\"*50)\n",
    "print(\"Multiple Linear Regression Coefficients:\")\n",
    "print(f\"Intercept (beta0): {multi_lr.intercept_:.2f}\")\n",
    "\n",
    "for feature, coef in zip(X.columns,multi_lr.coef_):\n",
    "    print(f\"Coefficient for {feature} (beta): {coef:.2f}\")\n",
    "    print(f\"Interpretation: Holding other features constant, a one unit increase in {feature} changes price by {coef:.2f} units.\\n\")"
   ]
  },
  {
   "cell_type": "code",
   "execution_count": null,
   "id": "45331165",
   "metadata": {},
   "outputs": [],
   "source": []
  }
 ],
 "metadata": {
  "kernelspec": {
   "display_name": "Python 3",
   "language": "python",
   "name": "python3"
  },
  "language_info": {
   "codemirror_mode": {
    "name": "ipython",
    "version": 3
   },
   "file_extension": ".py",
   "mimetype": "text/x-python",
   "name": "python",
   "nbconvert_exporter": "python",
   "pygments_lexer": "ipython3",
   "version": "3.12.10"
  }
 },
 "nbformat": 4,
 "nbformat_minor": 5
}
